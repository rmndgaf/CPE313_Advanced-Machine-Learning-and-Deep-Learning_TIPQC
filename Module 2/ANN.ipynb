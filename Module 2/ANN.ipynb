{
 "cells": [
  {
   "cell_type": "markdown",
   "metadata": {},
   "source": [
    "# Seatwork 1.1: Introduction to Artificial Neural Networks using Python\n",
    "For this activity, students are tasked with replicating a single neuron, and then a neural network."
   ]
  },
  {
   "cell_type": "code",
   "execution_count": 1,
   "metadata": {},
   "outputs": [],
   "source": [
    "# Create a neuron class\n",
    "class neuron(object):\n",
    "    def __init__(self, inputList = []):\n",
    "        self.inputs = inputList\n",
    "        self.sum = self.summationUnit(self.inputs)\n",
    "        self.activationFunction()\n",
    "    \n",
    "    def summationUnit(self):\n",
    "        sum = 0\n",
    "        for i, j in self.inputs:\n",
    "            sum = i*j\n",
    "        return sum\n",
    "    \n",
    "    def activationFunction(self):\n",
    "        if self.sum > 0:\n",
    "            return self.sum\n",
    "        else:\n",
    "            return 0"
   ]
  },
  {
   "cell_type": "code",
   "execution_count": null,
   "metadata": {},
   "outputs": [],
   "source": []
  }
 ],
 "metadata": {
  "kernelspec": {
   "display_name": "Python 3",
   "language": "python",
   "name": "python3"
  },
  "language_info": {
   "codemirror_mode": {
    "name": "ipython",
    "version": 3
   },
   "file_extension": ".py",
   "mimetype": "text/x-python",
   "name": "python",
   "nbconvert_exporter": "python",
   "pygments_lexer": "ipython3",
   "version": "3.9.6"
  }
 },
 "nbformat": 4,
 "nbformat_minor": 2
}
